{
 "cells": [
  {
   "cell_type": "markdown",
   "metadata": {},
   "source": [
    "# Show me the ROI: Classification Metrics for Business\n",
    "\n",
    "Evaluation metrics for a classifier help in determining how well the model has learnt from data and is able to distinguish between the various classes. Accuracy, Precision, Recall, F1, AUC, and Log Loss are the most commonly used metrics for evaluating the performance of a classifier. In this post I will talk about some other metrics viz. cumulative gain, lift and capture rate which can be used to demonstrate the effectiveness and value of the classification model to business stakeholders in a way that it can serve as an 'actionable insight' and help in strategically using the predictions in business operations. I will share a python utility function which will take the predicted probabilities and actual classes (ground truth from the target column or the 'Y' in training data) as inputs and calculate the cumulative gain, lift and capture rate for the model. This can also be used for setting a threshold for the classifier. I will also share some examples of use cases from various industry verticals such as Predictive Maintenance, Healthcare and Marketing where these metrics can be used to drive business value.\n",
    "\n",
    "## Best bang for the buck\n",
    "\n",
    "After building a Machine Learning model to predict the likelihood of an event to occur e.g. likelihood of a machine to fail, likelihood of a customer to churn, likelihood of a patient to have a medical event, likelihood of a member to respond to outreach etc. the next step typically is to design a plan for taking actions based on the predictions from the model. Often the question that comes up is what is the least number of cases (customers, patients, machines etc.) I can target to get optimal results. The answer to this question can be found in the capture rate analysis, the cumulative gain and lift chart. These metrics are related to each other and are used interchangeably but all answer the same business question of how to get the best bang for the buck. \n",
    "\n",
    "Below I will briefly describe what these metrics are and the steps to calculate them. The python utility function can be found in GitHub (insert link) along with the data used. The output from the function is below and will be used for plotting."
   ]
  },
  {
   "cell_type": "code",
   "execution_count": 3,
   "metadata": {},
   "outputs": [],
   "source": [
    "# python utility function to calculate metrics\n",
    "def metrics_roi(actual,pred_prob):\n",
    "    '''\n",
    "    Purpose: Function to calculate capture rate, cumulative gain and lift\n",
    "    Inputs : Accepts the actual classes and predicted probabilities as series \n",
    "    Output : A dataframe\n",
    "    '''\n",
    "    df_model = pd.DataFrame({'actual':actual, 'pred_prob':pred_prob})\n",
    "    Total_size = df_model.shape[0]\n",
    "    # bin data into deciles (10 equal sized* groups)\n",
    "    df_model['decile'] = pd.qcut(df_model['pred_prob'].rank(method='first'),10, labels=False)\n",
    "    # get group size in each decile ~ Total_size/10*\n",
    "    group_size = df_model.groupby('decile').size().tolist()\n",
    "    df_group_size = df_model.groupby('decile').size().reset_index()\n",
    "    df_group_size.columns = ['decile', 'group_size']\n",
    "    df_roi = df_model.groupby(['decile','actual']).size().reset_index()\n",
    "    df_roi.columns = ['decile','actual','count_actual_1s']\n",
    "    # keep rows with intended outcomes (actual==1)\n",
    "    df_roi = df_roi.loc[df_roi['actual']==1,]\n",
    "    # drop 'actual' column\n",
    "    df_roi.drop('actual', axis=1, inplace=True)\n",
    "    # add group_size column \n",
    "    df_roi = pd.merge(df_roi, df_group_size, on = ['decile'], how = 'left')\n",
    "    # denote the top decile (group with highest predicted probs) as decile = 1\n",
    "    df_roi['decile'] = 10 - df_roi['decile'] \n",
    "    df_roi = df_roi.sort_values('decile',ascending=True)\n",
    "    # calculate capture rate aka response rate for each decile\n",
    "    df_roi['capture_rate'] = df_roi['count_actual_1s']/df_roi['group_size']    \n",
    "    df_roi['cum_count_actual_1s'] = df_roi['count_actual_1s'].cumsum()\n",
    "    # count of all positive events (actual 1s) in the data\n",
    "    Total_1s = df_model.loc[(df_model['actual']==1) ,].shape[0]  \n",
    "    # Cumulative Gain \n",
    "    df_roi['cum_gain'] = df_roi['cum_count_actual_1s']/Total_1s\n",
    "    df_roi['cum_gain'] = round(df_roi['cum_gain'],3)\n",
    "    df_roi['baseline'] = df_roi['decile']* 10 \n",
    "    # Lift\n",
    "    df_roi['lift'] = df_roi['cum_gain']*100 / df_roi['baseline']\n",
    "    df_roi['lift'] = round(df_roi['lift'],3)\n",
    "    return df_roi\n",
    "    "
   ]
  },
  {
   "cell_type": "code",
   "execution_count": 2,
   "metadata": {},
   "outputs": [
    {
     "name": "stdout",
     "output_type": "stream",
     "text": [
      "(12000, 2)\n"
     ]
    },
    {
     "data": {
      "text/html": [
       "<div>\n",
       "<style scoped>\n",
       "    .dataframe tbody tr th:only-of-type {\n",
       "        vertical-align: middle;\n",
       "    }\n",
       "\n",
       "    .dataframe tbody tr th {\n",
       "        vertical-align: top;\n",
       "    }\n",
       "\n",
       "    .dataframe thead th {\n",
       "        text-align: right;\n",
       "    }\n",
       "</style>\n",
       "<table border=\"1\" class=\"dataframe\">\n",
       "  <thead>\n",
       "    <tr style=\"text-align: right;\">\n",
       "      <th></th>\n",
       "      <th>actual</th>\n",
       "      <th>pred_prob</th>\n",
       "    </tr>\n",
       "  </thead>\n",
       "  <tbody>\n",
       "    <tr>\n",
       "      <th>0</th>\n",
       "      <td>1</td>\n",
       "      <td>0.999991</td>\n",
       "    </tr>\n",
       "    <tr>\n",
       "      <th>1</th>\n",
       "      <td>1</td>\n",
       "      <td>0.999849</td>\n",
       "    </tr>\n",
       "    <tr>\n",
       "      <th>2</th>\n",
       "      <td>1</td>\n",
       "      <td>0.999840</td>\n",
       "    </tr>\n",
       "    <tr>\n",
       "      <th>3</th>\n",
       "      <td>0</td>\n",
       "      <td>0.999824</td>\n",
       "    </tr>\n",
       "    <tr>\n",
       "      <th>4</th>\n",
       "      <td>1</td>\n",
       "      <td>0.999810</td>\n",
       "    </tr>\n",
       "  </tbody>\n",
       "</table>\n",
       "</div>"
      ],
      "text/plain": [
       "   actual  pred_prob\n",
       "0       1   0.999991\n",
       "1       1   0.999849\n",
       "2       1   0.999840\n",
       "3       0   0.999824\n",
       "4       1   0.999810"
      ]
     },
     "execution_count": 2,
     "metadata": {},
     "output_type": "execute_result"
    }
   ],
   "source": [
    "import pandas as pd\n",
    "df_model = pd.read_csv('https://raw.githubusercontent.com/shaheeng/ShaheensBlogs/master/Show_me_the_ROI/data4roi_metrics.csv')\n",
    "print(df_model.shape)\n",
    "df_model.head()"
   ]
  },
  {
   "cell_type": "code",
   "execution_count": 4,
   "metadata": {},
   "outputs": [
    {
     "name": "stdout",
     "output_type": "stream",
     "text": [
      "<class 'pandas.core.series.Series'> <class 'pandas.core.series.Series'>\n"
     ]
    },
    {
     "data": {
      "text/html": [
       "<div>\n",
       "<style scoped>\n",
       "    .dataframe tbody tr th:only-of-type {\n",
       "        vertical-align: middle;\n",
       "    }\n",
       "\n",
       "    .dataframe tbody tr th {\n",
       "        vertical-align: top;\n",
       "    }\n",
       "\n",
       "    .dataframe thead th {\n",
       "        text-align: right;\n",
       "    }\n",
       "</style>\n",
       "<table border=\"1\" class=\"dataframe\">\n",
       "  <thead>\n",
       "    <tr style=\"text-align: right;\">\n",
       "      <th></th>\n",
       "      <th>decile</th>\n",
       "      <th>count_actual_1s</th>\n",
       "      <th>group_size</th>\n",
       "      <th>capture_rate</th>\n",
       "      <th>cum_count_actual_1s</th>\n",
       "      <th>cum_gain</th>\n",
       "      <th>baseline</th>\n",
       "      <th>lift</th>\n",
       "    </tr>\n",
       "  </thead>\n",
       "  <tbody>\n",
       "    <tr>\n",
       "      <th>9</th>\n",
       "      <td>1</td>\n",
       "      <td>960</td>\n",
       "      <td>1200</td>\n",
       "      <td>0.80</td>\n",
       "      <td>960</td>\n",
       "      <td>0.200</td>\n",
       "      <td>10</td>\n",
       "      <td>2.000</td>\n",
       "    </tr>\n",
       "    <tr>\n",
       "      <th>8</th>\n",
       "      <td>2</td>\n",
       "      <td>840</td>\n",
       "      <td>1200</td>\n",
       "      <td>0.70</td>\n",
       "      <td>1800</td>\n",
       "      <td>0.375</td>\n",
       "      <td>20</td>\n",
       "      <td>1.875</td>\n",
       "    </tr>\n",
       "    <tr>\n",
       "      <th>7</th>\n",
       "      <td>3</td>\n",
       "      <td>720</td>\n",
       "      <td>1200</td>\n",
       "      <td>0.60</td>\n",
       "      <td>2520</td>\n",
       "      <td>0.525</td>\n",
       "      <td>30</td>\n",
       "      <td>1.750</td>\n",
       "    </tr>\n",
       "    <tr>\n",
       "      <th>6</th>\n",
       "      <td>4</td>\n",
       "      <td>600</td>\n",
       "      <td>1200</td>\n",
       "      <td>0.50</td>\n",
       "      <td>3120</td>\n",
       "      <td>0.650</td>\n",
       "      <td>40</td>\n",
       "      <td>1.625</td>\n",
       "    </tr>\n",
       "    <tr>\n",
       "      <th>5</th>\n",
       "      <td>5</td>\n",
       "      <td>480</td>\n",
       "      <td>1200</td>\n",
       "      <td>0.40</td>\n",
       "      <td>3600</td>\n",
       "      <td>0.750</td>\n",
       "      <td>50</td>\n",
       "      <td>1.500</td>\n",
       "    </tr>\n",
       "    <tr>\n",
       "      <th>4</th>\n",
       "      <td>6</td>\n",
       "      <td>360</td>\n",
       "      <td>1200</td>\n",
       "      <td>0.30</td>\n",
       "      <td>3960</td>\n",
       "      <td>0.825</td>\n",
       "      <td>60</td>\n",
       "      <td>1.375</td>\n",
       "    </tr>\n",
       "    <tr>\n",
       "      <th>3</th>\n",
       "      <td>7</td>\n",
       "      <td>300</td>\n",
       "      <td>1200</td>\n",
       "      <td>0.25</td>\n",
       "      <td>4260</td>\n",
       "      <td>0.888</td>\n",
       "      <td>70</td>\n",
       "      <td>1.269</td>\n",
       "    </tr>\n",
       "    <tr>\n",
       "      <th>2</th>\n",
       "      <td>8</td>\n",
       "      <td>240</td>\n",
       "      <td>1200</td>\n",
       "      <td>0.20</td>\n",
       "      <td>4500</td>\n",
       "      <td>0.938</td>\n",
       "      <td>80</td>\n",
       "      <td>1.172</td>\n",
       "    </tr>\n",
       "    <tr>\n",
       "      <th>1</th>\n",
       "      <td>9</td>\n",
       "      <td>180</td>\n",
       "      <td>1200</td>\n",
       "      <td>0.15</td>\n",
       "      <td>4680</td>\n",
       "      <td>0.975</td>\n",
       "      <td>90</td>\n",
       "      <td>1.083</td>\n",
       "    </tr>\n",
       "    <tr>\n",
       "      <th>0</th>\n",
       "      <td>10</td>\n",
       "      <td>120</td>\n",
       "      <td>1200</td>\n",
       "      <td>0.10</td>\n",
       "      <td>4800</td>\n",
       "      <td>1.000</td>\n",
       "      <td>100</td>\n",
       "      <td>1.000</td>\n",
       "    </tr>\n",
       "  </tbody>\n",
       "</table>\n",
       "</div>"
      ],
      "text/plain": [
       "   decile  count_actual_1s  group_size  capture_rate  cum_count_actual_1s  \\\n",
       "9       1              960        1200          0.80                  960   \n",
       "8       2              840        1200          0.70                 1800   \n",
       "7       3              720        1200          0.60                 2520   \n",
       "6       4              600        1200          0.50                 3120   \n",
       "5       5              480        1200          0.40                 3600   \n",
       "4       6              360        1200          0.30                 3960   \n",
       "3       7              300        1200          0.25                 4260   \n",
       "2       8              240        1200          0.20                 4500   \n",
       "1       9              180        1200          0.15                 4680   \n",
       "0      10              120        1200          0.10                 4800   \n",
       "\n",
       "   cum_gain  baseline   lift  \n",
       "9     0.200        10  2.000  \n",
       "8     0.375        20  1.875  \n",
       "7     0.525        30  1.750  \n",
       "6     0.650        40  1.625  \n",
       "5     0.750        50  1.500  \n",
       "4     0.825        60  1.375  \n",
       "3     0.888        70  1.269  \n",
       "2     0.938        80  1.172  \n",
       "1     0.975        90  1.083  \n",
       "0     1.000       100  1.000  "
      ]
     },
     "execution_count": 4,
     "metadata": {},
     "output_type": "execute_result"
    }
   ],
   "source": [
    "actual = df_model['actual']\n",
    "pred_prob = df_model['pred_prob']\n",
    "print(type(actual),type(pred_prob))\n",
    "# call the function metrics_roi to calculate the metrics\n",
    "df_roi = metrics_roi(actual,pred_prob)\n",
    "df_roi"
   ]
  },
  {
   "cell_type": "markdown",
   "metadata": {},
   "source": [
    "## Capture Rate Analysis\n",
    "The capture rate analysis (also called decile analysis) provides a quick visual way to test the model’s ability to predict the intended outcome. In order to analyze capture rate, the predicted probabilities from the model are sorted in descending order and divided into ten equal-sized bins or deciles and we look at the actual event rate in each decile. The actual event rate is count of events (the actual positives) in the decile, divided by the size of decile, where the size of decile is simply the total number of instances divided by ten. These are plotted as bars and we look at the height of the bars in relation to one another with height representing the event rate in each decile from top to bottom.\n",
    "\n",
    "**Desired pattern** - A good plot exhibits a staircase effect with bars descending from top decile to bottom decile. A model with bars displaying a good staircase pattern is more predictive than one without it as it indicates that the model is binning the instances correctly from most likely to succeed to least likely to succeed.   \n",
    "**Undesired  pattern** - A bad plot has bars that do not show a staircase effect and seem to be out of order or seem to be of the same height. This indicates that the model is not performing any better than randomly binning instances into deciles.\n"
   ]
  },
  {
   "cell_type": "code",
   "execution_count": 5,
   "metadata": {},
   "outputs": [
    {
     "data": {
      "image/png": "[encoded data removed]",
      "text/plain": [
       "<Figure size 576x360 with 1 Axes>"
      ]
     },
     "metadata": {
      "needs_background": "light"
     },
     "output_type": "display_data"
    }
   ],
   "source": [
    "import numpy as np\n",
    "%matplotlib inline\n",
    "import matplotlib.pyplot as plt\n",
    "\n",
    "plt.figure(figsize=(8, 5))  \n",
    "y_values = df_roi['capture_rate']\n",
    "y_pos = np.arange(len(y_values))\n",
    "objects = [str(n+1) for n in range(10)] \n",
    "#objects = df_roi['decile']*10\n",
    "plt.bar(y_pos, y_values, align='center', alpha=0.5)\n",
    "plt.xticks(y_pos, objects)\n",
    "plt.ylabel('Capture Rate')\n",
    "plt.xlabel('Decile')\n",
    "#plt.xlabel('Percentage of sample')\n",
    "plt.title('Capture Rate Analysis')\n",
    "plt.show()"
   ]
  },
  {
   "cell_type": "markdown",
   "metadata": {},
   "source": [
    "Reading the first bar on the left, we see that by targeting 10% of the records that are ranked by the model as “the most probable positives” (the top decile) would yield 80% positives in the targeted group."
   ]
  },
  {
   "cell_type": "markdown",
   "metadata": {},
   "source": [
    "## Cumulative gains chart\n",
    "The cumulative gains chart shows the gain you would achieve by using the model to target or take an action versus randomly targeting.  \n",
    "For example: In predictive maintenance scenario (where the model typically predicts the likelihood of a machine to fail) if you randomly sample 20% of your machines due for scheduled service maintenance, you can expect to find only 20% of your machines that were going to fail (this would be your baseline). However, if you target 20% of your machines and if the model can ensure that 60% of the machines that are going to fail are in this group, then that would be the gain from your model.   \n",
    "In the cumulative gains chart, X axis is the percentage of population sampled and the Y axis is the proportion of actual failures in the sample. The curve shows the percentage of the overall number of cases \"gained\" by targeting a given percentage of the total number of cases. The farther above the baseline a curve lies, the greater the gain. \n"
   ]
  },
  {
   "cell_type": "code",
   "execution_count": 6,
   "metadata": {},
   "outputs": [
    {
     "data": {
      "image/png": "[encoded data removed]",
      "text/plain": [
       "<Figure size 576x360 with 1 Axes>"
      ]
     },
     "metadata": {
      "needs_background": "light"
     },
     "output_type": "display_data"
    }
   ],
   "source": [
    "plt.figure(figsize=(8, 5))  \n",
    "plt.plot(df_roi['decile']*10, df_roi['cum_gain']*100, linestyle='--', marker='o', color='b',label='Gain')\n",
    "plt.ylim((8,100))\n",
    "plt.xlim((8,100))\n",
    "x_low, x_high = plt.xlim()  \n",
    "y_low, y_high = plt.ylim()  \n",
    "low = max(x_low, y_low)\n",
    "high = min(x_high, y_high)\n",
    "diag_line = [low, high]\n",
    "plt.plot(diag_line,diag_line, marker='o',linestyle='--',color='r',label='Baseline')\n",
    "plt.title('Cumulative Gains Curve')\n",
    "plt.ylabel('Cumulative Gain %')\n",
    "plt.xlabel('Percentage of Total Population')\n",
    "plt.legend(loc='upper left')\n",
    "plt.grid(True)"
   ]
  },
  {
   "cell_type": "markdown",
   "metadata": {},
   "source": [
    "In the gain chart above, we can see that by targeting 50% of the population using the predicted probabilities from the model we would gain 75% of the events. By targeting 40% of the population using the predictions from the model we would gain only 65% of the events whereas by targeting 60% of the population we would gain 82% of the events. \n",
    "\n",
    "If the business objective or KPI could be met by say 65% of events gained, we could use this to set the threshold for the classifier by mapping that desired percentage to the appropriate cutoff value. The threshold determines how to label the predicted probabilities as positive or negative"
   ]
  },
  {
   "cell_type": "markdown",
   "metadata": {},
   "source": [
    "## Lift chart\n",
    "The lift chart is derived from the cumulative gains chart. In the lift chart, X axis is the percentage of population sampled and the Y axis is the ratio between the results obtained with and without the predictive model. This is nothing but the ratio of the cumulative gain to the baseline from the cumulative gains plot. The lift curve is another measure of the effectiveness of a predictive model in getting a relatively large portion of positives by selecting a relatively small number of cases or in other words, how effectively we can skim the cream.\n",
    "\n",
    "For example: In healthcare, a common scenario is to outreach to at risk patients for preemptive intervention. This could be for intervention for diabetes or hypertension or any other condition. There is always the need to optimize outreach programs due to limited resources to reach a large portion of truly at-risk patient population while minimizing the number of outreaches."
   ]
  },
  {
   "cell_type": "code",
   "execution_count": 7,
   "metadata": {},
   "outputs": [
    {
     "data": {
      "image/png": "[encoded data removed]",
      "text/plain": [
       "<Figure size 576x360 with 1 Axes>"
      ]
     },
     "metadata": {
      "needs_background": "light"
     },
     "output_type": "display_data"
    }
   ],
   "source": [
    "plt.figure(figsize=(8, 5))  \n",
    "plt.plot( df_roi['decile']*10, df_roi['lift'], linestyle='-', marker='o', color='b')\n",
    "plt.title('Lift Curve')\n",
    "plt.ylabel('Lift')\n",
    "#plt.xlabel('Percentage of sample')\n",
    "plt.xlabel('Percentage of Total Population')\n",
    "plt.grid(True)"
   ]
  },
  {
   "cell_type": "markdown",
   "metadata": {},
   "source": [
    "In the lift curve above as you will notice, the lift will vary with the sample of population we choose to target. A high lift when targeting only a small sample of population (instances with high predicted probabilities) is a tell-tale sign of a good classifier. Lift will continue to decrease as we target an increasingly larger sample of the population."
   ]
  },
  {
   "cell_type": "markdown",
   "metadata": {},
   "source": [
    "In this post we used python to compute some business metrics for a classifier. Hopefully with the help of these metrics you will be able to establish the ROI for your Machine Learning model which will enable adoption of the model for business operations. Enjoy!\n",
    "\n",
    "@Shaheen_Gauher, PhD "
   ]
  }
 ],
 "metadata": {
  "kernelspec": {
   "display_name": "Python 3",
   "language": "python",
   "name": "python3"
  },
  "language_info": {
   "codemirror_mode": {
    "name": "ipython",
    "version": 3
   },
   "file_extension": ".py",
   "mimetype": "text/x-python",
   "name": "python",
   "nbconvert_exporter": "python",
   "pygments_lexer": "ipython3",
   "version": "3.7.3"
  }
 },
 "nbformat": 4,
 "nbformat_minor": 2
}
